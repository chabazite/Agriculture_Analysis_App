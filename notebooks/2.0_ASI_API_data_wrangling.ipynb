{
 "cells": [
  {
   "cell_type": "markdown",
   "metadata": {},
   "source": []
  },
  {
   "cell_type": "code",
   "execution_count": 98,
   "metadata": {},
   "outputs": [],
   "source": [
    "import requests\n",
    "from collections import defaultdict\n",
    "import pandas as pd\n",
    "import numpy as np"
   ]
  },
  {
   "cell_type": "markdown",
   "metadata": {},
   "source": [
    "## Population APIs\n",
    "Total Population: SP.POP.TOTL"
   ]
  },
  {
   "cell_type": "code",
   "execution_count": 99,
   "metadata": {},
   "outputs": [],
   "source": [
    "# get the World Bank Population data by iterating through all pages\n",
    "total_population_data = []\n",
    "for page in range(1,18):\n",
    "    payload = {'format': 'json', 'per_page': '1000', 'date':'1960:2022', 'page':page}\n",
    "    population_json = requests.get('http://api.worldbank.org/v2/countries/indicators/SP.POP.TOTL', params=payload)\n",
    "    total_population_data+=population_json.json()[1]\n"
   ]
  },
  {
   "cell_type": "code",
   "execution_count": 100,
   "metadata": {},
   "outputs": [],
   "source": [
    "total_population_df = pd.DataFrame(total_population_data)"
   ]
  },
  {
   "cell_type": "code",
   "execution_count": 101,
   "metadata": {},
   "outputs": [],
   "source": [
    "#remove unnecessary columns\n",
    "total_population_df.drop(columns=['indicator','obs_status','decimal','countryiso3code', 'unit'], inplace=True, axis=1)\n",
    "\n",
    "total_population_df[\"date\"] = pd.to_datetime(total_population_df[\"date\"])\n"
   ]
  },
  {
   "cell_type": "code",
   "execution_count": 102,
   "metadata": {},
   "outputs": [],
   "source": [
    "#turn country feature into just country name\n",
    "for i, country in enumerate(total_population_df['country']):\n",
    "    total_population_df.loc[i,'country'] = country['value']"
   ]
  },
  {
   "cell_type": "code",
   "execution_count": 103,
   "metadata": {},
   "outputs": [],
   "source": [
    "country_list=list(total_population_df['country'].unique())\n",
    "country_list=country_list[49:]"
   ]
  },
  {
   "cell_type": "code",
   "execution_count": 104,
   "metadata": {},
   "outputs": [],
   "source": [
    "countries_population_df = total_population_df[total_population_df['country'].isin(country_list)]"
   ]
  },
  {
   "cell_type": "code",
   "execution_count": 105,
   "metadata": {},
   "outputs": [],
   "source": [
    "#countries with the top 10 populations\n",
    "largest_10_population = countries_population_df[countries_population_df['date']=='2021'].nlargest(n=10,columns='value')\n",
    "\n",
    "largest_10_list = [country for country in largest_10_population['country']]\n",
    "\n",
    "largest_10_pop_df = countries_population_df[countries_population_df['country'].isin(largest_10_list)]"
   ]
  },
  {
   "cell_type": "code",
   "execution_count": 106,
   "metadata": {},
   "outputs": [
    {
     "name": "stdout",
     "output_type": "stream",
     "text": [
      "Stored 'largest_10_pop_df' (DataFrame)\n",
      "Stored 'countries_population_df' (DataFrame)\n"
     ]
    }
   ],
   "source": [
    "%store largest_10_pop_df\n",
    "%store countries_population_df"
   ]
  },
  {
   "cell_type": "markdown",
   "metadata": {},
   "source": [
    "## Land Development APIs\n",
    "1. Forest: AG.LND.FRST.ZS\n",
    "2. Permanent cropland: AG.LND.CROP.ZS\n",
    "3. Agricultural Land: AG.LND.AGRI.ZS\n",
    "4. Arable Land: AG.LND.ARBL.ZS\n",
    "5. Land Cereal production : AG.LND.CREL.HA\n"
   ]
  },
  {
   "cell_type": "code",
   "execution_count": 171,
   "metadata": {},
   "outputs": [],
   "source": [
    "Land_API = ['AG.LND.FRST.ZS','AG.LND.CROP.ZS','AG.LND.AGRI.ZS','AG.LND.ARBL.ZS','AG.LND.CREL.HA']\n",
    "\n",
    "urls = []\n",
    "for indicator in Land_API:\n",
    "    url = 'http://api.worldbank.org/v2/countries/indicators/' + indicator \n",
    "    urls.append(url)\n",
    "dataframe_list = []\n",
    "\n",
    "for url in urls:\n",
    "    data = []\n",
    "    try:  \n",
    "        for page in range(1,18):\n",
    "            payload = {'format': 'json', 'per_page': '1000', 'date':'1960:2022', 'page':page}     \n",
    "            r = requests.get(url, params=payload)\n",
    "            data+=r.json()[1]\n",
    "        \n",
    "        dataframe_list.append(pd.DataFrame(data))\n",
    "\n",
    "    except:\n",
    "        print('could not load data', url)"
   ]
  },
  {
   "cell_type": "code",
   "execution_count": 108,
   "metadata": {},
   "outputs": [],
   "source": [
    "def removeFormatColumns(df):\n",
    "    \"\"\"\n",
    "    _summary_\n",
    "\n",
    "    Args:\n",
    "        df (DataFrame): _description_\n",
    "\n",
    "    Returns:\n",
    "        DataFrame: _description_\n",
    "    \"\"\"\n",
    "    df.drop(columns=['indicator','obs_status','decimal','countryiso3code', 'unit'], inplace=True, axis=1)\n",
    "\n",
    "    return df\n",
    "\n",
    "def formatColumns(df):\n",
    "    \"\"\"\n",
    "    _summary_\n",
    "\n",
    "    Args:\n",
    "        df (DataFrame): _description_\n",
    "    Returns:\n",
    "        df (DateFrame):\n",
    "    \"\"\"\n",
    "    \n",
    "    df[\"date\"] = pd.to_datetime(df[\"date\"])\n",
    "\n",
    "    #turn country feature into just country name\n",
    "    for i, country in enumerate(df['country']):\n",
    "        df.loc[i,'country'] = country['value']\n",
    "\n",
    "    return df\n",
    "\n",
    "def justCountries(df):\n",
    "    \"\"\"\n",
    "    _summary_\n",
    "    Args:\n",
    "        df (DataFrame): _description_\n",
    "    Returns:\n",
    "        DataFrame: _description_\n",
    "    \"\"\"\n",
    "    df=df[df['country'].isin(country_list)]\n",
    "    return df"
   ]
  },
  {
   "cell_type": "code",
   "execution_count": 179,
   "metadata": {},
   "outputs": [],
   "source": [
    "land_api_df = None\n",
    "\n",
    "#format and combine datframes into one\n",
    "for i, df in enumerate(dataframe_list):\n",
    "  dataframe_list[i] = removeFormatColumns(df)\n",
    "  dataframe_list[i] = formatColumns(df)\n",
    "  dataframe_list[i] = justCountries(df)\n",
    "  \n",
    "  if land_api_df is not None:\n",
    "    land_api_df.insert(loc=len(land_api_df.columns),column=Land_API[i], \n",
    "    value=df['value'])\n",
    "  else:\n",
    "    land_api_df = pd.DataFrame(df)\n",
    "    land_api_df.rename(columns={'value' : Land_API[i]}, inplace=True)"
   ]
  },
  {
   "cell_type": "code",
   "execution_count": 180,
   "metadata": {},
   "outputs": [
    {
     "data": {
      "text/html": [
       "<div>\n",
       "<style scoped>\n",
       "    .dataframe tbody tr th:only-of-type {\n",
       "        vertical-align: middle;\n",
       "    }\n",
       "\n",
       "    .dataframe tbody tr th {\n",
       "        vertical-align: top;\n",
       "    }\n",
       "\n",
       "    .dataframe thead th {\n",
       "        text-align: right;\n",
       "    }\n",
       "</style>\n",
       "<table border=\"1\" class=\"dataframe\">\n",
       "  <thead>\n",
       "    <tr style=\"text-align: right;\">\n",
       "      <th></th>\n",
       "      <th>country</th>\n",
       "      <th>date</th>\n",
       "      <th>AG.LND.FRST.ZS</th>\n",
       "      <th>AG.LND.CROP.ZS</th>\n",
       "      <th>AG.LND.AGRI.ZS</th>\n",
       "      <th>AG.LND.ARBL.ZS</th>\n",
       "      <th>AG.LND.CREL.HA</th>\n",
       "    </tr>\n",
       "  </thead>\n",
       "  <tbody>\n",
       "    <tr>\n",
       "      <th>3038</th>\n",
       "      <td>Afghanistan</td>\n",
       "      <td>2021-01-01</td>\n",
       "      <td>NaN</td>\n",
       "      <td>NaN</td>\n",
       "      <td>NaN</td>\n",
       "      <td>NaN</td>\n",
       "      <td>NaN</td>\n",
       "    </tr>\n",
       "    <tr>\n",
       "      <th>3039</th>\n",
       "      <td>Afghanistan</td>\n",
       "      <td>2020-01-01</td>\n",
       "      <td>1.850994</td>\n",
       "      <td>NaN</td>\n",
       "      <td>NaN</td>\n",
       "      <td>NaN</td>\n",
       "      <td>NaN</td>\n",
       "    </tr>\n",
       "    <tr>\n",
       "      <th>3040</th>\n",
       "      <td>Afghanistan</td>\n",
       "      <td>2019-01-01</td>\n",
       "      <td>1.850994</td>\n",
       "      <td>NaN</td>\n",
       "      <td>NaN</td>\n",
       "      <td>NaN</td>\n",
       "      <td>NaN</td>\n",
       "    </tr>\n",
       "    <tr>\n",
       "      <th>3041</th>\n",
       "      <td>Afghanistan</td>\n",
       "      <td>2018-01-01</td>\n",
       "      <td>1.850994</td>\n",
       "      <td>0.330852</td>\n",
       "      <td>58.081365</td>\n",
       "      <td>11.798854</td>\n",
       "      <td>1912634.0</td>\n",
       "    </tr>\n",
       "    <tr>\n",
       "      <th>3042</th>\n",
       "      <td>Afghanistan</td>\n",
       "      <td>2017-01-01</td>\n",
       "      <td>1.850994</td>\n",
       "      <td>0.323193</td>\n",
       "      <td>58.067580</td>\n",
       "      <td>11.792727</td>\n",
       "      <td>2419676.0</td>\n",
       "    </tr>\n",
       "    <tr>\n",
       "      <th>...</th>\n",
       "      <td>...</td>\n",
       "      <td>...</td>\n",
       "      <td>...</td>\n",
       "      <td>...</td>\n",
       "      <td>...</td>\n",
       "      <td>...</td>\n",
       "      <td>...</td>\n",
       "    </tr>\n",
       "    <tr>\n",
       "      <th>16487</th>\n",
       "      <td>Zimbabwe</td>\n",
       "      <td>1964-01-01</td>\n",
       "      <td>NaN</td>\n",
       "      <td>0.258498</td>\n",
       "      <td>29.055189</td>\n",
       "      <td>5.260437</td>\n",
       "      <td>1253793.0</td>\n",
       "    </tr>\n",
       "    <tr>\n",
       "      <th>16488</th>\n",
       "      <td>Zimbabwe</td>\n",
       "      <td>1963-01-01</td>\n",
       "      <td>NaN</td>\n",
       "      <td>0.258498</td>\n",
       "      <td>28.835466</td>\n",
       "      <td>5.131188</td>\n",
       "      <td>1253451.0</td>\n",
       "    </tr>\n",
       "    <tr>\n",
       "      <th>16489</th>\n",
       "      <td>Zimbabwe</td>\n",
       "      <td>1962-01-01</td>\n",
       "      <td>NaN</td>\n",
       "      <td>0.258498</td>\n",
       "      <td>28.615743</td>\n",
       "      <td>5.001939</td>\n",
       "      <td>1352412.0</td>\n",
       "    </tr>\n",
       "    <tr>\n",
       "      <th>16490</th>\n",
       "      <td>Zimbabwe</td>\n",
       "      <td>1961-01-01</td>\n",
       "      <td>NaN</td>\n",
       "      <td>0.258498</td>\n",
       "      <td>28.396019</td>\n",
       "      <td>4.872690</td>\n",
       "      <td>1377015.0</td>\n",
       "    </tr>\n",
       "    <tr>\n",
       "      <th>16491</th>\n",
       "      <td>Zimbabwe</td>\n",
       "      <td>1960-01-01</td>\n",
       "      <td>NaN</td>\n",
       "      <td>NaN</td>\n",
       "      <td>NaN</td>\n",
       "      <td>NaN</td>\n",
       "      <td>NaN</td>\n",
       "    </tr>\n",
       "  </tbody>\n",
       "</table>\n",
       "<p>13454 rows × 7 columns</p>\n",
       "</div>"
      ],
      "text/plain": [
       "           country       date  AG.LND.FRST.ZS  AG.LND.CROP.ZS  AG.LND.AGRI.ZS  \\\n",
       "3038   Afghanistan 2021-01-01             NaN             NaN             NaN   \n",
       "3039   Afghanistan 2020-01-01        1.850994             NaN             NaN   \n",
       "3040   Afghanistan 2019-01-01        1.850994             NaN             NaN   \n",
       "3041   Afghanistan 2018-01-01        1.850994        0.330852       58.081365   \n",
       "3042   Afghanistan 2017-01-01        1.850994        0.323193       58.067580   \n",
       "...            ...        ...             ...             ...             ...   \n",
       "16487     Zimbabwe 1964-01-01             NaN        0.258498       29.055189   \n",
       "16488     Zimbabwe 1963-01-01             NaN        0.258498       28.835466   \n",
       "16489     Zimbabwe 1962-01-01             NaN        0.258498       28.615743   \n",
       "16490     Zimbabwe 1961-01-01             NaN        0.258498       28.396019   \n",
       "16491     Zimbabwe 1960-01-01             NaN             NaN             NaN   \n",
       "\n",
       "       AG.LND.ARBL.ZS  AG.LND.CREL.HA  \n",
       "3038              NaN             NaN  \n",
       "3039              NaN             NaN  \n",
       "3040              NaN             NaN  \n",
       "3041        11.798854       1912634.0  \n",
       "3042        11.792727       2419676.0  \n",
       "...               ...             ...  \n",
       "16487        5.260437       1253793.0  \n",
       "16488        5.131188       1253451.0  \n",
       "16489        5.001939       1352412.0  \n",
       "16490        4.872690       1377015.0  \n",
       "16491             NaN             NaN  \n",
       "\n",
       "[13454 rows x 7 columns]"
      ]
     },
     "execution_count": 180,
     "metadata": {},
     "output_type": "execute_result"
    }
   ],
   "source": [
    "land_api_df"
   ]
  },
  {
   "cell_type": "markdown",
   "metadata": {},
   "source": [
    "## Living Condition APIs\n",
    "1. Rural population: SP.RUR.TOTL.ZS\n",
    "2. Urban Population:SP.URB.TOTL.IN.ZS\n",
    "3. Male Employment:SL.AGR.EMPL.MA.ZS\n",
    "4. Female Employement: SL.AGR.EMPL.FE.ZS\n",
    "\n"
   ]
  },
  {
   "cell_type": "code",
   "execution_count": null,
   "metadata": {},
   "outputs": [],
   "source": []
  },
  {
   "cell_type": "markdown",
   "metadata": {},
   "source": [
    "## Agricultural Practice APIs\n",
    "1. Fertilizer Use: AG.CON.FERT.ZS\n",
    "2. Cereal Production: AG.YLD.CREL.KG\n",
    "3. % of GDP value: NV.AGR.TOTL.ZS"
   ]
  },
  {
   "cell_type": "code",
   "execution_count": null,
   "metadata": {},
   "outputs": [],
   "source": []
  },
  {
   "cell_type": "markdown",
   "metadata": {},
   "source": [
    "## World Issue APIs\n",
    "1. Under 5 mortality: SH.DYN.MORT\n",
    "2. Greenhouse Gases: EN.ATM.GHGT.KT.CE\n",
    "3. CO2 emissions: EN.ATM.CO2E.KT\n",
    "4. Poverty : SI.POV.DDAY\n"
   ]
  }
 ],
 "metadata": {
  "kernelspec": {
   "display_name": "Python 3.10.1 ('agenv': venv)",
   "language": "python",
   "name": "python3"
  },
  "language_info": {
   "codemirror_mode": {
    "name": "ipython",
    "version": 3
   },
   "file_extension": ".py",
   "mimetype": "text/x-python",
   "name": "python",
   "nbconvert_exporter": "python",
   "pygments_lexer": "ipython3",
   "version": "3.10.1"
  },
  "orig_nbformat": 4,
  "vscode": {
   "interpreter": {
    "hash": "371a69db9c505796086e464c5ef382b2602b9e5b4a32f1c94751cf74969a281b"
   }
  }
 },
 "nbformat": 4,
 "nbformat_minor": 2
}
