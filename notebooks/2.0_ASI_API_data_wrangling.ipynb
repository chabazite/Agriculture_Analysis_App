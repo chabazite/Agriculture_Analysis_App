{
 "cells": [
  {
   "cell_type": "markdown",
   "metadata": {},
   "source": []
  },
  {
   "cell_type": "code",
   "execution_count": 57,
   "metadata": {},
   "outputs": [],
   "source": [
    "import requests\n",
    "from collections import defaultdict\n",
    "import pandas as pd\n",
    "import numpy as np"
   ]
  },
  {
   "cell_type": "markdown",
   "metadata": {},
   "source": [
    "## Population APIs\n",
    "Total Population: https://data.worldbank.org/indicator/SP.POP.TOTL"
   ]
  },
  {
   "cell_type": "code",
   "execution_count": 152,
   "metadata": {},
   "outputs": [],
   "source": [
    "# get the World Bank Population data by iterating through all pages\n",
    "total_population_data = []\n",
    "for page in range(1,18):\n",
    "    payload = {'format': 'json', 'per_page': '1000', 'date':'1960:2022', 'page':page}\n",
    "    population_json = requests.get('http://api.worldbank.org/v2/countries/indicators/SP.POP.TOTL', params=payload)\n",
    "    total_population_data+=population_json.json()[1]\n"
   ]
  },
  {
   "cell_type": "code",
   "execution_count": 153,
   "metadata": {},
   "outputs": [],
   "source": [
    "total_population_df = pd.DataFrame(total_population_data)"
   ]
  },
  {
   "cell_type": "code",
   "execution_count": 154,
   "metadata": {},
   "outputs": [],
   "source": [
    "#remove unnecessary columns\n",
    "total_population_df.drop(columns=['indicator','obs_status','decimal','countryiso3code', 'unit'], inplace=True, axis=1)\n",
    "\n",
    "total_population_df[\"date\"] = pd.to_datetime(total_population_df[\"date\"])\n"
   ]
  },
  {
   "cell_type": "code",
   "execution_count": 161,
   "metadata": {},
   "outputs": [],
   "source": [
    "#turn country feature into just country name\n",
    "for i, country in enumerate(total_population_df['country']):\n",
    "    total_population_df.loc[i,'country'] = country['value']"
   ]
  },
  {
   "cell_type": "code",
   "execution_count": 162,
   "metadata": {},
   "outputs": [],
   "source": [
    "countries_population_df = total_population_df[3038:]"
   ]
  },
  {
   "cell_type": "code",
   "execution_count": 163,
   "metadata": {},
   "outputs": [],
   "source": [
    "#countries with the top 10 populations\n",
    "largest_10_population = countries_population_df[countries_population_df['date']=='2021'].nlargest(n=10,columns='value')\n",
    "\n",
    "largest_10_list = [country for country in largest_10_population['country']]\n",
    "\n",
    "largest_10_pop_df = countries_population_df[countries_population_df['country'].isin(largest_10_list)]"
   ]
  },
  {
   "cell_type": "code",
   "execution_count": 165,
   "metadata": {},
   "outputs": [
    {
     "name": "stdout",
     "output_type": "stream",
     "text": [
      "Stored 'largest_10_pop_df' (DataFrame)\n",
      "Stored 'countries_population_df' (DataFrame)\n"
     ]
    }
   ],
   "source": [
    "%store largest_10_pop_df\n",
    "%store countries_population_df"
   ]
  },
  {
   "cell_type": "markdown",
   "metadata": {},
   "source": [
    "## Land Development APIs\n",
    "1. Forest: https://data.worldbank.org/indicator/AG.LND.FRST.ZS?view=map&year=2020\n",
    "2. Permanent cropland: https://data.worldbank.org/indicator/AG.LND.CROP.ZS?view=chart\n",
    "3. Agricultural Land: https://data.worldbank.org/indicator/AG.LND.AGRI.ZS?end=2018&start=1961&view=chart\n",
    "4. Arable Land: https://data.worldbank.org/indicator/AG.LND.ARBL.ZS?end=2018&start=1961&view=chart\n",
    "5. Land Cereal production : https://data.worldbank.org/indicator/AG.LND.CREL.HA?view=chart\n"
   ]
  },
  {
   "cell_type": "code",
   "execution_count": null,
   "metadata": {},
   "outputs": [],
   "source": []
  },
  {
   "cell_type": "markdown",
   "metadata": {},
   "source": [
    "## Living Condition APIs\n",
    "1. Rural population: https://data.worldbank.org/indicator/SP.RUR.TOTL.ZS?view=chart\n",
    "2. Urban Population: https://data.worldbank.org/indicator/SP.URB.TOTL.IN.ZS?view=chart\n",
    "3. Male Employment:  https://data.worldbank.org/indicator/SL.AGR.EMPL.MA.ZS?view=chart\n",
    "4. Female Employement: https://data.worldbank.org/indicator/SL.AGR.EMPL.FE.ZS?view=chart\n",
    "\n"
   ]
  },
  {
   "cell_type": "code",
   "execution_count": null,
   "metadata": {},
   "outputs": [],
   "source": []
  },
  {
   "cell_type": "markdown",
   "metadata": {},
   "source": [
    "## Agricultural Practice APIs\n",
    "1. Fertilizer Use: https://data.worldbank.org/indicator/AG.CON.FERT.ZS?view=chart\n",
    "2. Cereal Production: https://data.worldbank.org/indicator/AG.YLD.CREL.KG?view=chart\n",
    "3. % of GDP value: https://data.worldbank.org/indicator/NV.AGR.TOTL.ZS?end=2021&start=1960&view=chart"
   ]
  },
  {
   "cell_type": "code",
   "execution_count": null,
   "metadata": {},
   "outputs": [],
   "source": []
  },
  {
   "cell_type": "markdown",
   "metadata": {},
   "source": [
    "## World Issue APIs\n",
    "1. Under 5 mortality: https://data.worldbank.org/indicator/SH.DYN.MORT?view=chart\n",
    "2. Greenhouse Gases: https://data.worldbank.org/indicator/EN.ATM.GHGT.KT.CE?view=chart\n",
    "3. CO2 emissions: https://data.worldbank.org/indicator/EN.ATM.CO2E.KT?view=chart\n",
    "4. Poverty : https://data.worldbank.org/indicator/SI.POV.DDAY?view=chart\n"
   ]
  }
 ],
 "metadata": {
  "kernelspec": {
   "display_name": "Python 3.10.1 ('agenv': venv)",
   "language": "python",
   "name": "python3"
  },
  "language_info": {
   "codemirror_mode": {
    "name": "ipython",
    "version": 3
   },
   "file_extension": ".py",
   "mimetype": "text/x-python",
   "name": "python",
   "nbconvert_exporter": "python",
   "pygments_lexer": "ipython3",
   "version": "3.10.1"
  },
  "orig_nbformat": 4,
  "vscode": {
   "interpreter": {
    "hash": "371a69db9c505796086e464c5ef382b2602b9e5b4a32f1c94751cf74969a281b"
   }
  }
 },
 "nbformat": 4,
 "nbformat_minor": 2
}
