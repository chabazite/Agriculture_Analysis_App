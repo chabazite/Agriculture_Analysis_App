{
 "cells": [
  {
   "cell_type": "markdown",
   "metadata": {},
   "source": []
  },
  {
   "cell_type": "code",
   "execution_count": 7,
   "metadata": {},
   "outputs": [],
   "source": [
    "import requests\n",
    "from collections import defaultdict\n",
    "import pandas as pd\n",
    "import numpy as np"
   ]
  },
  {
   "cell_type": "markdown",
   "metadata": {},
   "source": [
    "## Population APIs\n",
    "Total Population: SP.POP.TOTL"
   ]
  },
  {
   "cell_type": "code",
   "execution_count": 21,
   "metadata": {},
   "outputs": [],
   "source": [
    "# get the World Bank Population data by iterating through all pages\n",
    "total_population_data = []\n",
    "for page in range(1,18):\n",
    "    payload = {'format': 'json', 'per_page': '1000', 'date':'1960:2022', 'page':page}\n",
    "    population_json = requests.get('http://api.worldbank.org/v2/countries/indicators/SP.POP.TOTL', params=payload)\n",
    "    total_population_data+=population_json.json()[1]\n"
   ]
  },
  {
   "cell_type": "code",
   "execution_count": 22,
   "metadata": {},
   "outputs": [],
   "source": [
    "total_population_df = pd.DataFrame(total_population_data)"
   ]
  },
  {
   "cell_type": "code",
   "execution_count": 23,
   "metadata": {},
   "outputs": [],
   "source": [
    "#remove unnecessary columns\n",
    "total_population_df.drop(columns=['indicator','obs_status','decimal','countryiso3code', 'unit'], inplace=True, axis=1)\n",
    "\n",
    "total_population_df[\"date\"] = pd.to_datetime(total_population_df[\"date\"])\n"
   ]
  },
  {
   "cell_type": "code",
   "execution_count": 24,
   "metadata": {},
   "outputs": [],
   "source": [
    "#turn country feature into just country name\n",
    "for i, country in enumerate(total_population_df['country']):\n",
    "    total_population_df.loc[i,'country'] = country['value']"
   ]
  },
  {
   "cell_type": "code",
   "execution_count": 26,
   "metadata": {},
   "outputs": [],
   "source": [
    "countries_population_df = total_population_df[3038:]"
   ]
  },
  {
   "cell_type": "code",
   "execution_count": 27,
   "metadata": {},
   "outputs": [],
   "source": [
    "#countries with the top 10 populations\n",
    "largest_10_population = countries_population_df[countries_population_df['date']=='2021'].nlargest(n=10,columns='value')\n",
    "\n",
    "largest_10_list = [country for country in largest_10_population['country']]\n",
    "\n",
    "largest_10_pop_df = countries_population_df[countries_population_df['country'].isin(largest_10_list)]"
   ]
  },
  {
   "cell_type": "code",
   "execution_count": 28,
   "metadata": {},
   "outputs": [
    {
     "name": "stdout",
     "output_type": "stream",
     "text": [
      "Stored 'largest_10_pop_df' (DataFrame)\n",
      "Stored 'countries_population_df' (DataFrame)\n"
     ]
    }
   ],
   "source": [
    "%store largest_10_pop_df\n",
    "%store countries_population_df"
   ]
  },
  {
   "cell_type": "markdown",
   "metadata": {},
   "source": [
    "## Land Development APIs\n",
    "1. Forest: AG.LND.FRST.ZS\n",
    "2. Permanent cropland: AG.LND.CROP.ZS\n",
    "3. Agricultural Land: AG.LND.AGRI.ZS\n",
    "4. Arable Land: AG.LND.ARBL.ZS\n",
    "5. Land Cereal production : AG.LND.CREL.HA\n"
   ]
  },
  {
   "cell_type": "code",
   "execution_count": 52,
   "metadata": {},
   "outputs": [],
   "source": [
    "Land_API = ['AG.LND.FRST.ZS','AG.LND.CROP.ZS','AG.LND.AGRI.ZS','AG.LND.ARBL.ZS','AG.LND.CREL.HA']\n",
    "\n",
    "urls = []\n",
    "for indicator in Land_API:\n",
    "    url = 'http://api.worldbank.org/v2/countries/indicators/' + indicator \n",
    "    urls.append(url)\n",
    "dataframe_list = []\n",
    "\n",
    "for url in urls:\n",
    "    data = []\n",
    "    try:  \n",
    "        for page in range(1,18):\n",
    "            payload = {'format': 'json', 'per_page': '1000', 'date':'1960:2022', 'page':page}     \n",
    "            r = requests.get(url, params=payload)\n",
    "            data+=r.json()[1]\n",
    "        \n",
    "        dataframe_list.append(pd.DataFrame(data))\n",
    "\n",
    "    except:\n",
    "        print('could not load data', url)"
   ]
  },
  {
   "cell_type": "code",
   "execution_count": 31,
   "metadata": {},
   "outputs": [],
   "source": [
    "def removeFormatColumns(df):\n",
    "    \"\"\"\n",
    "    _summary_\n",
    "\n",
    "    Args:\n",
    "        df (DataFrame): _description_\n",
    "\n",
    "    Returns:\n",
    "        DataFrame: _description_\n",
    "    \"\"\"\n",
    "    df.drop(columns=['indicator','obs_status','decimal','countryiso3code', 'unit'], inplace=True, axis=1)\n",
    "\n",
    "    return df\n",
    "\n",
    "def formatColumns(df):\n",
    "    \"\"\"\n",
    "    _summary_\n",
    "\n",
    "    Args:\n",
    "        df (DataFrame): _description_\n",
    "    Returns:\n",
    "        df (DateFrame):\n",
    "    \"\"\"\n",
    "    \n",
    "    df[\"date\"] = pd.to_datetime(df[\"date\"])\n",
    "\n",
    "    #turn country feature into just country name\n",
    "    for i, country in enumerate(df['country']):\n",
    "        df.loc[i,'country'] = country['value']\n",
    "\n",
    "    return df\n",
    "\n",
    "def justCountries(df):\n",
    "    \"\"\"\n",
    "    _summary_\n",
    "    Args:\n",
    "        df (DataFrame): _description_\n",
    "    Returns:\n",
    "        DataFrame: _description_\n",
    "    \"\"\"\n",
    "    return df"
   ]
  },
  {
   "cell_type": "code",
   "execution_count": 54,
   "metadata": {},
   "outputs": [],
   "source": [
    "for i, df in enumerate(dataframe_list):\n",
    "  dataframe_list[i] = removeFormatColumns(df)\n",
    "  dataframe_list[i] = formatColumns(df)\n",
    "  "
   ]
  },
  {
   "cell_type": "code",
   "execution_count": 55,
   "metadata": {},
   "outputs": [
    {
     "data": {
      "text/html": [
       "<div>\n",
       "<style scoped>\n",
       "    .dataframe tbody tr th:only-of-type {\n",
       "        vertical-align: middle;\n",
       "    }\n",
       "\n",
       "    .dataframe tbody tr th {\n",
       "        vertical-align: top;\n",
       "    }\n",
       "\n",
       "    .dataframe thead th {\n",
       "        text-align: right;\n",
       "    }\n",
       "</style>\n",
       "<table border=\"1\" class=\"dataframe\">\n",
       "  <thead>\n",
       "    <tr style=\"text-align: right;\">\n",
       "      <th></th>\n",
       "      <th>country</th>\n",
       "      <th>date</th>\n",
       "      <th>value</th>\n",
       "    </tr>\n",
       "  </thead>\n",
       "  <tbody>\n",
       "    <tr>\n",
       "      <th>0</th>\n",
       "      <td>Africa Eastern and Southern</td>\n",
       "      <td>2021-01-01</td>\n",
       "      <td>NaN</td>\n",
       "    </tr>\n",
       "    <tr>\n",
       "      <th>1</th>\n",
       "      <td>Africa Eastern and Southern</td>\n",
       "      <td>2020-01-01</td>\n",
       "      <td>NaN</td>\n",
       "    </tr>\n",
       "    <tr>\n",
       "      <th>2</th>\n",
       "      <td>Africa Eastern and Southern</td>\n",
       "      <td>2019-01-01</td>\n",
       "      <td>NaN</td>\n",
       "    </tr>\n",
       "    <tr>\n",
       "      <th>3</th>\n",
       "      <td>Africa Eastern and Southern</td>\n",
       "      <td>2018-01-01</td>\n",
       "      <td>0.774625</td>\n",
       "    </tr>\n",
       "    <tr>\n",
       "      <th>4</th>\n",
       "      <td>Africa Eastern and Southern</td>\n",
       "      <td>2017-01-01</td>\n",
       "      <td>0.764390</td>\n",
       "    </tr>\n",
       "    <tr>\n",
       "      <th>...</th>\n",
       "      <td>...</td>\n",
       "      <td>...</td>\n",
       "      <td>...</td>\n",
       "    </tr>\n",
       "    <tr>\n",
       "      <th>16487</th>\n",
       "      <td>Zimbabwe</td>\n",
       "      <td>1964-01-01</td>\n",
       "      <td>0.258498</td>\n",
       "    </tr>\n",
       "    <tr>\n",
       "      <th>16488</th>\n",
       "      <td>Zimbabwe</td>\n",
       "      <td>1963-01-01</td>\n",
       "      <td>0.258498</td>\n",
       "    </tr>\n",
       "    <tr>\n",
       "      <th>16489</th>\n",
       "      <td>Zimbabwe</td>\n",
       "      <td>1962-01-01</td>\n",
       "      <td>0.258498</td>\n",
       "    </tr>\n",
       "    <tr>\n",
       "      <th>16490</th>\n",
       "      <td>Zimbabwe</td>\n",
       "      <td>1961-01-01</td>\n",
       "      <td>0.258498</td>\n",
       "    </tr>\n",
       "    <tr>\n",
       "      <th>16491</th>\n",
       "      <td>Zimbabwe</td>\n",
       "      <td>1960-01-01</td>\n",
       "      <td>NaN</td>\n",
       "    </tr>\n",
       "  </tbody>\n",
       "</table>\n",
       "<p>16492 rows × 3 columns</p>\n",
       "</div>"
      ],
      "text/plain": [
       "                           country       date     value\n",
       "0      Africa Eastern and Southern 2021-01-01       NaN\n",
       "1      Africa Eastern and Southern 2020-01-01       NaN\n",
       "2      Africa Eastern and Southern 2019-01-01       NaN\n",
       "3      Africa Eastern and Southern 2018-01-01  0.774625\n",
       "4      Africa Eastern and Southern 2017-01-01  0.764390\n",
       "...                            ...        ...       ...\n",
       "16487                     Zimbabwe 1964-01-01  0.258498\n",
       "16488                     Zimbabwe 1963-01-01  0.258498\n",
       "16489                     Zimbabwe 1962-01-01  0.258498\n",
       "16490                     Zimbabwe 1961-01-01  0.258498\n",
       "16491                     Zimbabwe 1960-01-01       NaN\n",
       "\n",
       "[16492 rows x 3 columns]"
      ]
     },
     "execution_count": 55,
     "metadata": {},
     "output_type": "execute_result"
    }
   ],
   "source": []
  },
  {
   "cell_type": "code",
   "execution_count": 33,
   "metadata": {},
   "outputs": [
    {
     "ename": "TypeError",
     "evalue": "string indices must be integers",
     "output_type": "error",
     "traceback": [
      "\u001b[1;31m---------------------------------------------------------------------------\u001b[0m",
      "\u001b[1;31mTypeError\u001b[0m                                 Traceback (most recent call last)",
      "\u001b[1;32mc:\\Users\\ingal\\Documents\\Data Science Work\\Agriculture_Analysis_App\\notebooks\\2.0_ASI_API_data_wrangling.ipynb Cell 15\u001b[0m in \u001b[0;36m<cell line: 3>\u001b[1;34m()\u001b[0m\n\u001b[0;32m      <a href='vscode-notebook-cell:/c%3A/Users/ingal/Documents/Data%20Science%20Work/Agriculture_Analysis_App/notebooks/2.0_ASI_API_data_wrangling.ipynb#ch0000020?line=0'>1</a>\u001b[0m df \u001b[39m=\u001b[39m dataframe_list[\u001b[39m1\u001b[39m]\n\u001b[0;32m      <a href='vscode-notebook-cell:/c%3A/Users/ingal/Documents/Data%20Science%20Work/Agriculture_Analysis_App/notebooks/2.0_ASI_API_data_wrangling.ipynb#ch0000020?line=2'>3</a>\u001b[0m \u001b[39mfor\u001b[39;00m i, country \u001b[39min\u001b[39;00m \u001b[39menumerate\u001b[39m(df[\u001b[39m'\u001b[39m\u001b[39mcountry\u001b[39m\u001b[39m'\u001b[39m]):\n\u001b[1;32m----> <a href='vscode-notebook-cell:/c%3A/Users/ingal/Documents/Data%20Science%20Work/Agriculture_Analysis_App/notebooks/2.0_ASI_API_data_wrangling.ipynb#ch0000020?line=3'>4</a>\u001b[0m     df\u001b[39m.\u001b[39mloc[i,\u001b[39m'\u001b[39m\u001b[39mcountry\u001b[39m\u001b[39m'\u001b[39m] \u001b[39m=\u001b[39m country[\u001b[39m'\u001b[39;49m\u001b[39mvalue\u001b[39;49m\u001b[39m'\u001b[39;49m]\n\u001b[0;32m      <a href='vscode-notebook-cell:/c%3A/Users/ingal/Documents/Data%20Science%20Work/Agriculture_Analysis_App/notebooks/2.0_ASI_API_data_wrangling.ipynb#ch0000020?line=5'>6</a>\u001b[0m df\n",
      "\u001b[1;31mTypeError\u001b[0m: string indices must be integers"
     ]
    }
   ],
   "source": [
    "df = dataframe_list[1]\n",
    "\n",
    "for i, country in enumerate(df['country']):\n",
    "    df.loc[i,'country'] = country['value']\n",
    "\n",
    "df"
   ]
  },
  {
   "cell_type": "markdown",
   "metadata": {},
   "source": [
    "## Living Condition APIs\n",
    "1. Rural population: SP.RUR.TOTL.ZS\n",
    "2. Urban Population:SP.URB.TOTL.IN.ZS\n",
    "3. Male Employment:SL.AGR.EMPL.MA.ZS\n",
    "4. Female Employement: SL.AGR.EMPL.FE.ZS\n",
    "\n"
   ]
  },
  {
   "cell_type": "code",
   "execution_count": null,
   "metadata": {},
   "outputs": [],
   "source": []
  },
  {
   "cell_type": "markdown",
   "metadata": {},
   "source": [
    "## Agricultural Practice APIs\n",
    "1. Fertilizer Use: AG.CON.FERT.ZS\n",
    "2. Cereal Production: AG.YLD.CREL.KG\n",
    "3. % of GDP value: NV.AGR.TOTL.ZS"
   ]
  },
  {
   "cell_type": "code",
   "execution_count": null,
   "metadata": {},
   "outputs": [],
   "source": []
  },
  {
   "cell_type": "markdown",
   "metadata": {},
   "source": [
    "## World Issue APIs\n",
    "1. Under 5 mortality: SH.DYN.MORT\n",
    "2. Greenhouse Gases: EN.ATM.GHGT.KT.CE\n",
    "3. CO2 emissions: EN.ATM.CO2E.KT\n",
    "4. Poverty : SI.POV.DDAY\n"
   ]
  }
 ],
 "metadata": {
  "kernelspec": {
   "display_name": "Python 3.10.1 ('agenv': venv)",
   "language": "python",
   "name": "python3"
  },
  "language_info": {
   "codemirror_mode": {
    "name": "ipython",
    "version": 3
   },
   "file_extension": ".py",
   "mimetype": "text/x-python",
   "name": "python",
   "nbconvert_exporter": "python",
   "pygments_lexer": "ipython3",
   "version": "3.10.1"
  },
  "orig_nbformat": 4,
  "vscode": {
   "interpreter": {
    "hash": "371a69db9c505796086e464c5ef382b2602b9e5b4a32f1c94751cf74969a281b"
   }
  }
 },
 "nbformat": 4,
 "nbformat_minor": 2
}
