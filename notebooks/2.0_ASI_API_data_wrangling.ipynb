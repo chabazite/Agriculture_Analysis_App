{
 "cells": [
  {
   "cell_type": "markdown",
   "metadata": {},
   "source": []
  },
  {
   "cell_type": "code",
   "execution_count": 1,
   "metadata": {},
   "outputs": [],
   "source": [
    "import requests\n"
   ]
  },
  {
   "cell_type": "markdown",
   "metadata": {},
   "source": [
    "## Population APIs\n",
    "Total Population: https://data.worldbank.org/indicator/SP.POP.TOTL"
   ]
  },
  {
   "cell_type": "code",
   "execution_count": 39,
   "metadata": {},
   "outputs": [],
   "source": [
    "# get the World Bank \n",
    "total_population_data = []\n",
    "for page in range(17):\n",
    "    payload = {'format': 'json', 'per_page': '1000', 'date':'1960:2022', 'page':page}\n",
    "    population_json = requests.get('http://api.worldbank.org/v2/countries/indicators/SP.POP.TOTL', params=payload)\n",
    "    total_population_data+=population_json.json()\n"
   ]
  },
  {
   "cell_type": "markdown",
   "metadata": {},
   "source": [
    "## Land Development APIs\n",
    "1. Forest: https://data.worldbank.org/indicator/AG.LND.FRST.ZS?view=map&year=2020\n",
    "2. Permanent cropland: https://data.worldbank.org/indicator/AG.LND.CROP.ZS?view=chart\n",
    "3. Agricultural Land: https://data.worldbank.org/indicator/AG.LND.AGRI.ZS?end=2018&start=1961&view=chart\n",
    "4. Arable Land: https://data.worldbank.org/indicator/AG.LND.ARBL.ZS?end=2018&start=1961&view=chart\n",
    "5. Land Cereal production : https://data.worldbank.org/indicator/AG.LND.CREL.HA?view=chart\n"
   ]
  },
  {
   "cell_type": "code",
   "execution_count": null,
   "metadata": {},
   "outputs": [],
   "source": []
  },
  {
   "cell_type": "markdown",
   "metadata": {},
   "source": [
    "## Living Condition APIs\n",
    "1. Rural population: https://data.worldbank.org/indicator/SP.RUR.TOTL.ZS?view=chart\n",
    "2. Urban Population: https://data.worldbank.org/indicator/SP.URB.TOTL.IN.ZS?view=chart\n",
    "3. Male Employment:  https://data.worldbank.org/indicator/SL.AGR.EMPL.MA.ZS?view=chart\n",
    "4. Female Employement: https://data.worldbank.org/indicator/SL.AGR.EMPL.FE.ZS?view=chart\n",
    "\n"
   ]
  },
  {
   "cell_type": "code",
   "execution_count": null,
   "metadata": {},
   "outputs": [],
   "source": []
  },
  {
   "cell_type": "markdown",
   "metadata": {},
   "source": [
    "## Agricultural Practice APIs\n",
    "1. Fertilizer Use: https://data.worldbank.org/indicator/AG.CON.FERT.ZS?view=chart\n",
    "2. Cereal Production: https://data.worldbank.org/indicator/AG.YLD.CREL.KG?view=chart\n",
    "3. % of GDP value: https://data.worldbank.org/indicator/NV.AGR.TOTL.ZS?end=2021&start=1960&view=chart"
   ]
  },
  {
   "cell_type": "code",
   "execution_count": null,
   "metadata": {},
   "outputs": [],
   "source": []
  },
  {
   "cell_type": "markdown",
   "metadata": {},
   "source": [
    "## World Issue APIs\n",
    "1. Under 5 mortality: https://data.worldbank.org/indicator/SH.DYN.MORT?view=chart\n",
    "2. Greenhouse Gases: https://data.worldbank.org/indicator/EN.ATM.GHGT.KT.CE?view=chart\n",
    "3. CO2 emissions: https://data.worldbank.org/indicator/EN.ATM.CO2E.KT?view=chart\n",
    "4. Poverty : https://data.worldbank.org/indicator/SI.POV.DDAY?view=chart\n"
   ]
  }
 ],
 "metadata": {
  "kernelspec": {
   "display_name": "Python 3.10.1 ('agenv': venv)",
   "language": "python",
   "name": "python3"
  },
  "language_info": {
   "codemirror_mode": {
    "name": "ipython",
    "version": 3
   },
   "file_extension": ".py",
   "mimetype": "text/x-python",
   "name": "python",
   "nbconvert_exporter": "python",
   "pygments_lexer": "ipython3",
   "version": "3.10.1"
  },
  "orig_nbformat": 4,
  "vscode": {
   "interpreter": {
    "hash": "371a69db9c505796086e464c5ef382b2602b9e5b4a32f1c94751cf74969a281b"
   }
  }
 },
 "nbformat": 4,
 "nbformat_minor": 2
}
