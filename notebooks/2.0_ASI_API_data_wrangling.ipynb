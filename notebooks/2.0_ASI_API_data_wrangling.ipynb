{
 "cells": [
  {
   "cell_type": "markdown",
   "metadata": {},
   "source": []
  },
  {
   "cell_type": "code",
   "execution_count": 1,
   "metadata": {},
   "outputs": [],
   "source": [
    "import requests\n",
    "from collections import defaultdict\n",
    "import pandas as pd\n",
    "import numpy as np"
   ]
  },
  {
   "cell_type": "markdown",
   "metadata": {},
   "source": [
    "##  APIs\n",
    "\n",
    "1. Forest: AG.LND.FRST.ZS\n",
    "2. Permanent cropland: AG.LND.CROP.ZS\n",
    "3. Agricultural Land: AG.LND.AGRI.ZS\n",
    "4. Arable Land: AG.LND.ARBL.ZS\n",
    "5. Land Cereal production : AG.LND.CREL.HA\n",
    "6. Rural population: SP.RUR.TOTL.ZS\n",
    "7. Urban Population:SP.URB.TOTL.IN.ZS\n",
    "8. Male Employment:SL.AGR.EMPL.MA.ZS\n",
    "9. Female Employement: SL.AGR.EMPL.FE.ZS\n",
    "10. Fertilizer Use: AG.CON.FERT.ZS\n",
    "11. Cereal Production: AG.YLD.CREL.KG\n",
    "12. % of GDP value: NV.AGR.TOTL.ZS\n",
    "13. Total Population: SP.POP.TOTL\n",
    "14. Under 5 mortality: SH.DYN.MORT\n",
    "15. Greenhouse Gases: EN.ATM.GHGT.KT.CE\n",
    "16. CO2 emissions: EN.ATM.CO2E.KT\n",
    "17. Poverty : SI.POV.DDAY"
   ]
  },
  {
   "cell_type": "code",
   "execution_count": 2,
   "metadata": {},
   "outputs": [],
   "source": [
    "country_list = ['World', 'Afghanistan', 'Albania', 'Algeria', 'American Samoa', 'Andorra', 'Angola', 'Antigua and Barbuda', 'Argentina', 'Armenia', 'Aruba', 'Australia', 'Austria', 'Azerbaijan', 'Bahamas, The', 'Bahrain', 'Bangladesh', 'Barbados', 'Belarus', 'Belgium', 'Belize', 'Benin', 'Bermuda', 'Bhutan', 'Bolivia', 'Bosnia and Herzegovina', 'Botswana', 'Brazil', 'British Virgin Islands', 'Brunei Darussalam', 'Bulgaria', 'Burkina Faso', 'Burundi', 'Cabo Verde', 'Cambodia', 'Cameroon', 'Canada', 'Cayman Islands', 'Central African Republic', 'Chad', 'Channel Islands', 'Chile', 'China', 'Colombia', 'Comoros', 'Congo, Dem. Rep.', 'Congo, Rep.', 'Costa Rica', \"Cote d'Ivoire\", 'Croatia', 'Cuba', 'Curacao', 'Cyprus', 'Czech Republic', 'Denmark', 'Djibouti', 'Dominica', 'Dominican Republic', 'Ecuador', 'Egypt, Arab Rep.', 'El Salvador', 'Equatorial Guinea', 'Eritrea', 'Estonia', 'Eswatini', 'Ethiopia', 'Faroe Islands', 'Fiji', 'Finland', 'France', 'French Polynesia', 'Gabon', 'Gambia, The', 'Georgia', 'Germany', 'Ghana', 'Gibraltar', 'Greece', 'Greenland', 'Grenada', 'Guam', 'Guatemala', 'Guinea', 'Guinea-Bissau', 'Guyana', 'Haiti', 'Honduras', 'Hong Kong SAR, China', 'Hungary', 'Iceland', 'India', 'Indonesia', 'Iran, Islamic Rep.', 'Iraq', 'Ireland', 'Isle of Man', 'Israel', 'Italy', 'Jamaica', 'Japan', 'Jordan', 'Kazakhstan', 'Kenya', 'Kiribati', \"Korea, Dem. People's Rep.\", 'Korea, Rep.', 'Kosovo', 'Kuwait', 'Kyrgyz Republic', 'Lao PDR', 'Latvia', 'Lebanon', 'Lesotho', 'Liberia', 'Libya', 'Liechtenstein', 'Lithuania', 'Luxembourg', 'Macao SAR, China', 'Madagascar', 'Malawi', 'Malaysia', 'Maldives', 'Mali', 'Malta', 'Marshall Islands', 'Mauritania', 'Mauritius', 'Mexico', 'Micronesia, Fed. Sts.', 'Moldova', 'Monaco', 'Mongolia', 'Montenegro', 'Morocco', 'Mozambique', 'Myanmar', 'Namibia', 'Nauru', 'Nepal', 'Netherlands', 'New Caledonia', 'New Zealand', 'Nicaragua', 'Niger', 'Nigeria', 'North Macedonia', 'Northern Mariana Islands', 'Norway', 'Oman', 'Pakistan', 'Palau', 'Panama', 'Papua New Guinea', 'Paraguay', 'Peru', 'Philippines', 'Poland', 'Portugal', 'Puerto Rico', 'Qatar', 'Romania', 'Russian Federation', 'Rwanda', 'Samoa', 'San Marino', 'Sao Tome and Principe', 'Saudi Arabia', 'Senegal', 'Serbia', 'Seychelles', 'Sierra Leone', 'Singapore', 'Sint Maarten (Dutch part)', 'Slovak Republic', 'Slovenia', 'Solomon Islands', 'Somalia', 'South Africa', 'South Sudan', 'Spain', 'Sri Lanka', 'St. Kitts and Nevis', 'St. Lucia', 'St. Martin (French part)', 'St. Vincent and the Grenadines', 'Sudan', 'Suriname', 'Sweden', 'Switzerland', 'Syrian Arab Republic', 'Tajikistan', 'Tanzania', 'Thailand', 'Timor-Leste', 'Togo', 'Tonga', 'Trinidad and Tobago', 'Tunisia', 'Turkiye', 'Turkmenistan', 'Turks and Caicos Islands', 'Tuvalu', 'Uganda', 'Ukraine', 'United Arab Emirates', 'United Kingdom', 'United States', 'Uruguay', 'Uzbekistan', 'Vanuatu', 'Venezuela, RB', 'Vietnam', 'Virgin Islands (U.S.)', 'West Bank and Gaza', 'Yemen, Rep.', 'Zambia', 'Zimbabwe']"
   ]
  },
  {
   "cell_type": "code",
   "execution_count": 3,
   "metadata": {},
   "outputs": [
    {
     "name": "stderr",
     "output_type": "stream",
     "text": [
      "UsageError: Unknown variable 'largest_10_pop_df'\n"
     ]
    }
   ],
   "source": [
    "%store largest_10_pop_df\n",
    "%store countries_population_df"
   ]
  },
  {
   "cell_type": "code",
   "execution_count": 4,
   "metadata": {},
   "outputs": [],
   "source": [
    "def removeFormatColumns(df):\n",
    "    \"\"\"\n",
    "    _summary_\n",
    "\n",
    "    Args:\n",
    "        df (DataFrame): _description_\n",
    "\n",
    "    Returns:\n",
    "        DataFrame: _description_\n",
    "    \"\"\"\n",
    "    df.drop(columns=['indicator','obs_status','decimal','countryiso3code', 'unit'], inplace=True, axis=1)\n",
    "\n",
    "    return df\n",
    "\n",
    "def formatColumns(df):\n",
    "    \"\"\"\n",
    "    _summary_\n",
    "\n",
    "    Args:\n",
    "        df (DataFrame): _description_\n",
    "    Returns:\n",
    "        df (DateFrame):\n",
    "    \"\"\"\n",
    "    \n",
    "    df[\"date\"] = pd.to_datetime(df[\"date\"])\n",
    "\n",
    "    #turn country feature into just country name\n",
    "    for i, country in enumerate(df['country']):\n",
    "        df.loc[i,'country'] = country['value']\n",
    "\n",
    "    return df\n",
    "\n",
    "def justCountries(df):\n",
    "    \"\"\"\n",
    "    _summary_\n",
    "    Args:\n",
    "        df (DataFrame): _description_\n",
    "    Returns:\n",
    "        DataFrame: _description_\n",
    "    \"\"\"\n",
    "    df=df[df['country'].isin(country_list)]\n",
    "    return df"
   ]
  },
  {
   "cell_type": "code",
   "execution_count": 28,
   "metadata": {},
   "outputs": [],
   "source": [
    "# list of worldbank API indicators that will be used to form a database\n",
    "world_bank_api = ['SP.POP.TOTL', 'AG.LND.TOTL.K2', 'AG.LND.FRST.ZS',\n",
    "'AG.LND.CROP.ZS','AG.LND.AGRI.ZS','AG.LND.ARBL.ZS','AG.LND.CREL.HA', \n",
    "'SP.RUR.TOTL.ZS','SP.URB.TOTL.IN.ZS', 'SL.AGR.EMPL.MA.ZS', 'SL.AGR.EMPL.FE.ZS', 'AG.CON.FERT.ZS','AG.YLD.CREL.KG', 'NV.AGR.TOTL.ZS', 'SH.DYN.MORT', \n",
    "'EN.ATM.GHGT.KT.CE', 'EN.ATM.CO2E.KT', 'SI.POV.DDAY']\n",
    "\n",
    "# loop to create a list of URLs from api indicators\n",
    "urls = []\n",
    "for indicator in world_bank_api:\n",
    "    url = 'http://api.worldbank.org/v2/countries/indicators/' + indicator \n",
    "    urls.append(url)\n",
    "dataframe_list = []\n",
    "\n",
    "# loop to get request each url and iterate through 18 pages of json data, then turn into a list of dataframes.\n",
    "\n",
    "for url in urls:\n",
    "    data = []\n",
    "    try:  \n",
    "        for page in range(1,18):\n",
    "            payload = {'format': 'json', 'per_page': '1000', 'date':'1960:2022', 'page':page}     \n",
    "            r = requests.get(url, params=payload)\n",
    "            data+=r.json()[1]\n",
    "        \n",
    "        dataframe_list.append(pd.DataFrame(data))\n",
    "\n",
    "    except:\n",
    "        print('could not load data', url)"
   ]
  },
  {
   "cell_type": "code",
   "execution_count": 29,
   "metadata": {},
   "outputs": [],
   "source": [
    "world_bank_columns = ['population', 'total_land_sqkm', 'forest_%','crop_%','agricultural_%','arable_%','cereal_grain_hectare', 'rural_pop_%','urban_pop_%', 'male_employement_ag', 'female_employment_ag', 'fertilizer_consump','cereal_yield_hectare', 'total_gdp_ag_forestry_fishing', 'mortality_under5', 'Total_Greenhouse_gases', 'CO2_emmission','Poverty_under1_90_per_day']\n",
    "\n",
    "world_bank_df = None\n",
    "\n",
    "#format and combine datframes into a single dataframe\n",
    "for i, df in enumerate(dataframe_list):\n",
    "  df = removeFormatColumns(df)\n",
    "  df = formatColumns(df)\n",
    "  df = justCountries(df)\n",
    "  \n",
    "  if world_bank_df is not None:\n",
    "    world_bank_df.insert(loc=len(world_bank_df.columns),column=world_bank_columns[i], \n",
    "    value=df['value'])\n",
    "  else:\n",
    "    world_bank_df = pd.DataFrame(df)\n",
    "    world_bank_df.rename(columns={'value' : world_bank_columns[i]}, inplace=True)"
   ]
  },
  {
   "cell_type": "code",
   "execution_count": 30,
   "metadata": {},
   "outputs": [],
   "source": [
    "# turning % into total features\n",
    "\n",
    "world_bank_df['total_urban_pop'] = world_bank_df['urban_pop_%']*world_bank_df['population'] / 100\n",
    "\n",
    "world_bank_df['total_rural_pop'] = world_bank_df['rural_pop_%']*world_bank_df['population'] / 100\n",
    "\n",
    "world_bank_df['total_forest_land'] = world_bank_df['forest_%']*world_bank_df['total_land_sqkm'] / 100\n",
    "\n",
    "world_bank_df['total_ag_land'] = world_bank_df['agricultural_%']*world_bank_df['total_land_sqkm'] / 100\n",
    "\n",
    "world_bank_df['total_perm_crop_land'] = world_bank_df['crop_%']*world_bank_df['total_land_sqkm'] / 100\n",
    "\n",
    "world_bank_df['total_arable_land'] = world_bank_df['arable_%']*world_bank_df['total_land_sqkm'] / 100\n"
   ]
  },
  {
   "cell_type": "code",
   "execution_count": 31,
   "metadata": {},
   "outputs": [],
   "source": [
    "#countries with the top 10 populations\n",
    "largest_10_population = world_bank_df[world_bank_df['date']=='2021'].nlargest(n=11,columns='population')\n",
    "\n",
    "largest_10_list = [country for country in largest_10_population['country']]\n",
    "\n",
    "largest_10_pop_df = world_bank_df[world_bank_df['country'].isin(largest_10_list)]"
   ]
  },
  {
   "cell_type": "code",
   "execution_count": 32,
   "metadata": {},
   "outputs": [
    {
     "name": "stdout",
     "output_type": "stream",
     "text": [
      "Stored 'world_bank_df' (DataFrame)\n",
      "Stored 'largest_10_pop_df' (DataFrame)\n"
     ]
    }
   ],
   "source": [
    "%store world_bank_df\n",
    "%store largest_10_pop_df"
   ]
  }
 ],
 "metadata": {
  "kernelspec": {
   "display_name": "Python 3.10.1 ('agenv': venv)",
   "language": "python",
   "name": "python3"
  },
  "language_info": {
   "codemirror_mode": {
    "name": "ipython",
    "version": 3
   },
   "file_extension": ".py",
   "mimetype": "text/x-python",
   "name": "python",
   "nbconvert_exporter": "python",
   "pygments_lexer": "ipython3",
   "version": "3.10.1"
  },
  "orig_nbformat": 4,
  "vscode": {
   "interpreter": {
    "hash": "371a69db9c505796086e464c5ef382b2602b9e5b4a32f1c94751cf74969a281b"
   }
  }
 },
 "nbformat": 4,
 "nbformat_minor": 2
}
